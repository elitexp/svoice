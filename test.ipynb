{
 "cells": [
  {
   "cell_type": "code",
   "execution_count": 15,
   "metadata": {},
   "outputs": [],
   "source": [
    "from svoice.models.swave import Encoder, Decoder"
   ]
  },
  {
   "cell_type": "code",
   "execution_count": 76,
   "metadata": {},
   "outputs": [
    {
     "name": "stdout",
     "output_type": "stream",
     "text": [
      "torch.Size([1, 56000])\n",
      "torch.Size([1, 128, 13999])\n",
      "torch.Size([1, 1, 56008])\n"
     ]
    }
   ],
   "source": [
    "N = 128\n",
    "L = 8\n",
    "H = 128\n",
    "R = 6\n",
    "C = 2\n",
    "import torch\n",
    "\n",
    "encoder=Encoder(L=L,N=N)\n",
    "decoder=Decoder(L=L)\n",
    "import torchaudio\n",
    "\n",
    "# Load the audio file\n",
    "mixture, sample_rate = torchaudio.load('../dataset/nepali/mix/mixed_0.wav')\n",
    "# Ensure the audio tensor is in the correct shape (1, T) for the encoder\n",
    "if mixture.ndim == 1:\n",
    "    mixture = mixture.unsqueeze(0)  # Add channel dimension if necessary\n",
    "mixture = mixture / mixture.abs().max()\n",
    "\n",
    "print(mixture.shape)\n",
    "mixture = encoder(mixture)\n",
    "print(mixture.shape)\n",
    "\n",
    "decoded_output = decoder(mixture.unsqueeze(1))\n",
    "print(decoded_output.shape)\n",
    "decoded_output = decoded_output / decoded_output.abs().max()\n",
    "# Ensure correct shape\n",
    "if decoded_output.ndim == 1:\n",
    "    decoded_output = decoded_output.unsqueeze(0)\n",
    "\n",
    "with torch.no_grad():\n",
    "  torchaudio.save('../dataset/nepali/mix/abc.wav', decoded_output.squeeze(0), sample_rate)\n",
    "\n"
   ]
  },
  {
   "cell_type": "code",
   "execution_count": 78,
   "metadata": {},
   "outputs": [
    {
     "ename": "ImportError",
     "evalue": "attempted relative import with no known parent package",
     "output_type": "error",
     "traceback": [
      "\u001b[0;31m---------------------------------------------------------------------------\u001b[0m",
      "\u001b[0;31mImportError\u001b[0m                               Traceback (most recent call last)",
      "Cell \u001b[0;32mIn[78], line 1\u001b[0m\n\u001b[0;32m----> 1\u001b[0m \u001b[38;5;28;01mfrom\u001b[39;00m \u001b[38;5;21;01m.\u001b[39;00m\u001b[38;5;21;01msvoice\u001b[39;00m\u001b[38;5;21;01m.\u001b[39;00m\u001b[38;5;21;01mtrain\u001b[39;00m \u001b[38;5;28;01mimport\u001b[39;00m main\n",
      "\u001b[0;31mImportError\u001b[0m: attempted relative import with no known parent package"
     ]
    }
   ],
   "source": []
  }
 ],
 "metadata": {
  "kernelspec": {
   "display_name": "mlx",
   "language": "python",
   "name": "python3"
  },
  "language_info": {
   "codemirror_mode": {
    "name": "ipython",
    "version": 3
   },
   "file_extension": ".py",
   "mimetype": "text/x-python",
   "name": "python",
   "nbconvert_exporter": "python",
   "pygments_lexer": "ipython3",
   "version": "3.12.4"
  }
 },
 "nbformat": 4,
 "nbformat_minor": 2
}
